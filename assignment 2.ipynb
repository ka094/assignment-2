{
 "cells": [
  {
   "cell_type": "code",
   "execution_count": 1,
   "metadata": {},
   "outputs": [
    {
     "name": "stdout",
     "output_type": "stream",
     "text": [
      "Enter marks of english:78\n",
      "Enter marks of urdu:98\n",
      "Enter marks of islamiat:77\n",
      "Enter marks of mathematics:88\n",
      "Enter marks of sindhi:77\n",
      "Grade: B\n"
     ]
    }
   ],
   "source": [
    "#program to print marks sheet using grades\n",
    "s1=int(input(\"Enter marks of english:\"))\n",
    "s2=int(input(\"Enter marks of urdu:#\"))\n",
    "s3=int(input(\"Enter marks of islamiat:\"))\n",
    "s4=int(input(\"Enter marks of mathematics:\"))\n",
    "s5=int(input(\"Enter marks of sindhi:\"))\n",
    "avg=(s1+s2+s3+s4+s5)/500\n",
    "if(avg>=90):\n",
    "    print(\"Grade: A\")\n",
    "elif(avg>=80&avg<90):\n",
    "    print(\"Grade: B\")\n",
    "elif(avg>=70&avg<80):\n",
    "    print(\"Grade: C\")\n",
    "elif(avg>=60&avg<70):\n",
    "    print(\"Grade: D\")\n",
    "else:\n",
    "    print(\"Grade: F\")"
   ]
  },
  {
   "cell_type": "code",
   "execution_count": 25,
   "metadata": {},
   "outputs": [
    {
     "name": "stdout",
     "output_type": "stream",
     "text": [
      "Enter your number: 89\n",
      "This is an odd number.\n"
     ]
    }
   ],
   "source": [
    "#program to check even or odd\n",
    "num = int(input(\"Enter your number: \"))\n",
    "m = num % 2\n",
    "if m > 0:\n",
    "    print(\"This is an odd number.\")\n",
    "else:\n",
    "    print(\"This is an even number.\")\n",
    "        "
   ]
  },
  {
   "cell_type": "code",
   "execution_count": 23,
   "metadata": {},
   "outputs": [
    {
     "name": "stdout",
     "output_type": "stream",
     "text": [
      "Lenght of list: 5\n"
     ]
    }
   ],
   "source": [
    "#program to print the lenght of the list\n",
    "list=['a','b','c','d','e']\n",
    "print \"Lenght of list:\",len(list)"
   ]
  },
  {
   "cell_type": "code",
   "execution_count": 10,
   "metadata": {},
   "outputs": [
    {
     "name": "stdout",
     "output_type": "stream",
     "text": [
      "Sum of All number 189\n"
     ]
    }
   ],
   "source": [
    "#program to sum all number in list\n",
    "list=[1,34,67,87]\n",
    "total=sum(list)\n",
    "print\"Sum of All number\",total"
   ]
  },
  {
   "cell_type": "code",
   "execution_count": 11,
   "metadata": {},
   "outputs": [
    {
     "name": "stdout",
     "output_type": "stream",
     "text": [
      "Largest number in a given list: 78\n"
     ]
    }
   ],
   "source": [
    "#program to print largest num in a given list\n",
    "list=[23,5,66,78,9]\n",
    "print \"Largest number in a given list:\",max(list)"
   ]
  },
  {
   "cell_type": "code",
   "execution_count": 18,
   "metadata": {},
   "outputs": [
    {
     "name": "stdout",
     "output_type": "stream",
     "text": [
      "1\n",
      "3\n"
     ]
    }
   ],
   "source": [
    "#program to print all less num from 5\n",
    "list=[1,26,3,43,5]\n",
    "for num in list:\n",
    "    if num <5:\n",
    "        print(num)\n"
   ]
  },
  {
   "cell_type": "code",
   "execution_count": null,
   "metadata": {},
   "outputs": [],
   "source": []
  }
 ],
 "metadata": {
  "kernelspec": {
   "display_name": "Python 2",
   "language": "python",
   "name": "python2"
  },
  "language_info": {
   "codemirror_mode": {
    "name": "ipython",
    "version": 2
   },
   "file_extension": ".py",
   "mimetype": "text/x-python",
   "name": "python",
   "nbconvert_exporter": "python",
   "pygments_lexer": "ipython2",
   "version": "2.7.16"
  }
 },
 "nbformat": 4,
 "nbformat_minor": 2
}
